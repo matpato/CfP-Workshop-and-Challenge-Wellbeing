{
 "cells": [
  {
   "cell_type": "markdown",
   "metadata": {},
   "source": [
    "# Challenge: Workshop and Challenge on Detection of Stress and Mental Health Using Wearable Sensors\n",
    "\n",
    "<ul>\n",
    "    <li><a href=\"#1\">1. Data retrieval and cleaning</a></li>\n",
    "</ul>\n",
    "   \n",
    "<ul>\n",
    "   <li>&nbsp;&nbsp;&nbsp;&nbsp;&nbsp;&nbsp;&nbsp;&nbsp;<a href=\"#1.1\">1.1.Import libraries</a></li>\n",
    "</ul>\n",
    "\n",
    "<ul>\n",
    "   <li>&nbsp;&nbsp;&nbsp;&nbsp;&nbsp;&nbsp;&nbsp;&nbsp;<a href=\"#1.2\">1.2. Retrieve dataset</a></li>\n",
    "</ul>\n",
    "<ul>\n",
    "   <li>&nbsp;&nbsp;&nbsp;&nbsp;&nbsp;&nbsp;&nbsp;&nbsp;<a href=\"#1.4\">1.3. Selecting a sample</a></li>\n",
    "</ul>\n",
    "\n",
    "\n",
    "<ul>\n",
    "   <li><a href=\"#4\">4. Data statistics</a></li>\n",
    "</ul>\n"
   ]
  },
  {
   "cell_type": "markdown",
   "metadata": {},
   "source": [
    "<a id=\"1\"></a>\n",
    "\n",
    "## 1. Data retrieval + cleaning"
   ]
  },
  {
   "cell_type": "markdown",
   "metadata": {},
   "source": [
    "<a id=\"1.1\"></a>\n",
    "### 1.1 Import libraries"
   ]
  },
  {
   "cell_type": "code",
   "execution_count": 1,
   "metadata": {},
   "outputs": [],
   "source": [
    "import json\n",
    "import os\n",
    "import pandas as pd\n",
    "import requests\n",
    "import sys\n",
    "import numpy as np"
   ]
  },
  {
   "cell_type": "code",
   "execution_count": 2,
   "metadata": {},
   "outputs": [
    {
     "name": "stdout",
     "output_type": "stream",
     "text": [
      "Requirement already satisfied: pip in /usr/local/anaconda3/lib/python3.8/site-packages (22.1.2)\n",
      "Note: you may need to restart the kernel to use updated packages.\n"
     ]
    }
   ],
   "source": [
    "pip install --upgrade pip"
   ]
  },
  {
   "cell_type": "markdown",
   "metadata": {},
   "source": [
    "<a id=\"1.2\"></a>\n",
    "### 1.2. Retrieve SMILE\n",
    "\n",
    "The SMILE dataset was collected from 45 healthy adult participants (39 females and 6 males) in Belgium. The average age of participants was 24.5 years old, with a standard deviation of 3.0 years. Each participant contributed to an average of 8.7 days of data. Two types of wearable sensors were used for data collection. One was a wrist-worn device (Chillband, IMEC, Belgium) designed for the measurement of skin conductance (SC), ST, and acceleration data (ACC). The second sensor was a chest patch (Health Patch, IMEC, Belgium) to measure ECG and ACC. It contains a sensor node designed to monitor ECG at 256 Hz and ACC at 32 Hz continuously throughout the study period. Participants could remove the sensors while showering or before doing intense exercises. Also, participants received notifications on their mobile phones to report their momentary stress levels daily. "
   ]
  },
  {
   "cell_type": "markdown",
   "metadata": {},
   "source": [
    "https://compwell.rice.edu/workshops/embc2022/dataset"
   ]
  },
  {
   "cell_type": "code",
   "execution_count": 3,
   "metadata": {},
   "outputs": [],
   "source": [
    "dataset = np.load('data/dataset_smile_challenge.npy', allow_pickle=True).item()"
   ]
  },
  {
   "cell_type": "markdown",
   "metadata": {},
   "source": [
    "    dict\n",
    "        dictionary with dataset, with keys:\n",
    "         * `train`\n",
    "          * `deep_features`\n",
    "           * `ECG_features_C`\n",
    "           * `ECG_features_T`\n",
    "           * `masking`\n",
    "          * `hand_crafted_features`\n",
    "           * `ECG_features`\n",
    "           * `ECG_masking`\n",
    "           * `GSR_features`\n",
    "           * `GSR_masking`\n",
    "          * `labels`\n",
    "         * `test`\n",
    "          * Same structure as `train`"
   ]
  },
  {
   "cell_type": "markdown",
   "metadata": {},
   "source": [
    "Let's explore the contents of the dataset directory"
   ]
  },
  {
   "cell_type": "code",
   "execution_count": 4,
   "metadata": {},
   "outputs": [],
   "source": [
    "\n",
    "\n",
    "# for training and testing data:\n",
    "\n",
    "dataset_train = dataset['train']\n",
    "\n",
    "dataset_test = dataset['test']\n",
    "\n",
    "# for deep features.\n",
    "\n",
    "deep_features = dataset_train['deep_features']\n",
    "\n",
    "# conv1d backbone based features for ECG signal.\n",
    "\n",
    "deep_features['ECG_features_C'] \n",
    "\n",
    "# transformer backbone basde features for ECG signal  \n",
    "\n",
    "deep_features['ECG_features_T']   \n",
    "\n",
    "# for hand-crafted features.\n",
    "\n",
    "handcrafted_features_train = dataset_train['hand_crafted_features']\n",
    "handcrafted_features_test = dataset_test['hand_crafted_features']\n",
    "\n",
    "# handcrafted features for ECG signal\n",
    "\n",
    "handcrafted_features_train['ECG_features'] \n",
    "handcrafted_features_test['ECG_features']\n",
    "\n",
    " # handcrafted features for GSR signal. \n",
    "\n",
    "handcrafted_features_train['GSR_features'] \n",
    "handcrafted_features_test['GSR_features']\n",
    "\n",
    "# for labels.\n",
    "\n",
    "labels_train = dataset_train['labels']  # labels.\n",
    "labels_test = dataset_test['labels']\n"
   ]
  },
  {
   "cell_type": "code",
   "execution_count": 5,
   "metadata": {},
   "outputs": [
    {
     "data": {
      "text/plain": [
       "dict_keys(['deep_features', 'hand_crafted_features', 'labels'])"
      ]
     },
     "execution_count": 5,
     "metadata": {},
     "output_type": "execute_result"
    }
   ],
   "source": [
    "dataset['test'].keys()"
   ]
  },
  {
   "cell_type": "code",
   "execution_count": 82,
   "metadata": {},
   "outputs": [
    {
     "data": {
      "text/plain": [
       "2070"
      ]
     },
     "execution_count": 82,
     "metadata": {},
     "output_type": "execute_result"
    }
   ],
   "source": [
    "len(dataset['train']['labels'])"
   ]
  },
  {
   "cell_type": "markdown",
   "metadata": {},
   "source": [
    "Now we have a DataFrame with the contents of the metadata file."
   ]
  },
  {
   "cell_type": "markdown",
   "metadata": {},
   "source": [
    "<a id=\"4\"></a>\n",
    "## 4. Data statistics "
   ]
  },
  {
   "cell_type": "code",
   "execution_count": 9,
   "metadata": {},
   "outputs": [
    {
     "name": "stdout",
     "output_type": "stream",
     "text": [
      "train: (2070, 60, 8)\n",
      "test: (986, 60, 8)\n"
     ]
    }
   ],
   "source": [
    "print(\n",
    "    f\"train: {dataset['train']['hand_crafted_features']['ECG_features'].shape}\")\n",
    "print(\n",
    "    f\"test: {dataset['test']['hand_crafted_features']['ECG_features'].shape}\")\n"
   ]
  },
  {
   "cell_type": "markdown",
   "metadata": {},
   "source": [
    "Load SMILE dataset as a dictionary from npy file.\n",
    "Each feature matrix has 3 dimensions:\n",
    "* sequence (of 60 minutes)\n",
    "* window (5 minute with 4 min overlap)\n",
    "* feature"
   ]
  },
  {
   "cell_type": "markdown",
   "metadata": {},
   "source": [
    "## ECG Features\n",
    "* feature and label vector construction\n",
    "* creation of classifier"
   ]
  },
  {
   "cell_type": "code",
   "execution_count": 8,
   "metadata": {},
   "outputs": [
    {
     "data": {
      "text/plain": [
       "2070"
      ]
     },
     "execution_count": 8,
     "metadata": {},
     "output_type": "execute_result"
    }
   ],
   "source": [
    "len(dataset['train']['hand_crafted_features']['ECG_features'])\n"
   ]
  },
  {
   "cell_type": "code",
   "execution_count": 6,
   "metadata": {},
   "outputs": [
    {
     "data": {
      "text/plain": [
       "(60, 8)"
      ]
     },
     "execution_count": 6,
     "metadata": {},
     "output_type": "execute_result"
    }
   ],
   "source": [
    "dataset['train']['hand_crafted_features']['ECG_features'][0].shape #tem uma sequencia de 60 minutos ?"
   ]
  },
  {
   "cell_type": "code",
   "execution_count": 85,
   "metadata": {},
   "outputs": [
    {
     "data": {
      "text/plain": [
       "array([0.07646664, 0.0957195 , 0.01932093, 0.01004426, 0.89676394,\n",
       "       0.11722841, 0.06801284, 0.10347245])"
      ]
     },
     "execution_count": 85,
     "metadata": {},
     "output_type": "execute_result"
    }
   ],
   "source": [
    "# representa as features extraidas de 1 janela da sequencia (correspondente a 5 minutos)\n",
    "dataset['test']['hand_crafted_features']['ECG_features'][0][0]\n"
   ]
  },
  {
   "cell_type": "code",
   "execution_count": 34,
   "metadata": {},
   "outputs": [],
   "source": [
    "# Create an array with features\n",
    "# Train dataset\n",
    "nfeatures = len(dataset['train']['hand_crafted_features']['ECG_features'][0][0])\n",
    "n = len(dataset['train']['hand_crafted_features']['ECG_features']) * \\\n",
    "    len(dataset['train']['hand_crafted_features']['ECG_features'])\n",
    "# variaveis e iniciação a zero\n",
    "handcrafted_features_train=np.zeros((n,nfeatures)) #X\n",
    "handcrafted_labels_train = np.zeros(n)  # y\n",
    "#\n",
    "count=0\n",
    "for i in range(len(dataset['train']['hand_crafted_features']['ECG_features'])):\n",
    "    for j in range(len(dataset['train']['hand_crafted_features']['ECG_features'][i])):\n",
    "        if(np.sum(np.isnan(dataset['train']['hand_crafted_features']['ECG_features'][i][j])) == 0):\n",
    "            # nao considerar os nan\n",
    "            handcrafted_features_train[count,\n",
    "                                       0:nfeatures] = dataset['train']['hand_crafted_features']['ECG_features'][i][j]\n",
    "            handcrafted_labels_train[count] = dataset['train']['labels'][i]\n",
    "            count=count+1      "
   ]
  },
  {
   "cell_type": "code",
   "execution_count": null,
   "id": "abca4ccf",
   "metadata": {},
   "outputs": [],
   "source": [
    "# Test dataset\n",
    "nfeatures = len(dataset['test']['hand_crafted_features']['ECG_features'][0][0])\n",
    "n = len(dataset['test']['hand_crafted_features']['ECG_features']) * \\\n",
    "    len(dataset['test']['hand_crafted_features']['ECG_features'][0])\n",
    "# variaveis e iniciação a zero\n",
    "handcrafted_features_test=np.zeros((n,nfeatures)) #X\n",
    "handcrafted_labels_test = np.zeros(n)  # y\n",
    "\n",
    "count=0\n",
    "for i in range(len(dataset['test']['hand_crafted_features']['ECG_features'])):\n",
    "    #print(dataset['test']['hand_crafted_features']['ECG_features'][i])\n",
    "    for j in range(len(dataset['test']['hand_crafted_features']['ECG_features'][i])):\n",
    "        if(np.sum(np.isnan(dataset['test']['hand_crafted_features']['ECG_features'][i][j])) == 0):\n",
    "            # nao considerar os nan\n",
    "            handcrafted_features_test[count,\n",
    "                                      0:nfeatures] = dataset['test']['hand_crafted_features']['ECG_features'][i][j]\n",
    "            handcrafted_labels_test[count] = dataset['test']['labels'][i]\n",
    "            count = count+1"
   ]
  },
  {
   "cell_type": "code",
   "execution_count": 41,
   "id": "1e49d637",
   "metadata": {},
   "outputs": [
    {
     "data": {
      "text/plain": [
       "(0, 8)"
      ]
     },
     "execution_count": 41,
     "metadata": {},
     "output_type": "execute_result"
    }
   ],
   "source": [
    "# Remove all rows with zeros from the array\n",
    "data1 = handcrafted_features_train\n",
    "data1[~np.all(data1 == 0, axis=1)].shape\n",
    "\n",
    "# Remove last values from the array\n",
    "data_train = handcrafted_features_train\n",
    "data_train[:-(n-count),:].shape  \n",
    "\n",
    "data_test = handcrafted_features_test\n",
    "data_test[:-(n-count),:].shape"
   ]
  },
  {
   "cell_type": "code",
   "execution_count": 42,
   "id": "67fc7239",
   "metadata": {},
   "outputs": [
    {
     "data": {
      "text/plain": [
       "(0,)"
      ]
     },
     "execution_count": 42,
     "metadata": {},
     "output_type": "execute_result"
    }
   ],
   "source": [
    "## Labels\n",
    "data_train_label = handcrafted_labels_train\n",
    "data_train_label[:-(n-count)].shape\n",
    "\n",
    "data_test_label = handcrafted_labels_test\n",
    "data_test_label[:-(n-count)].shape\n"
   ]
  },
  {
   "cell_type": "code",
   "execution_count": 37,
   "metadata": {},
   "outputs": [
    {
     "data": {
      "text/plain": [
       "(array([ 16860,  16861,  16862, ..., 117486, 117487, 117488]),)"
      ]
     },
     "execution_count": 37,
     "metadata": {},
     "output_type": "execute_result"
    }
   ],
   "source": [
    "## find max\n",
    "np.where(data_train_label == np.max(data_train_label))\n"
   ]
  },
  {
   "cell_type": "code",
   "execution_count": 38,
   "metadata": {},
   "outputs": [
    {
     "data": {
      "text/plain": [
       "(array([      0,       1,       2, ..., 4284897, 4284898, 4284899]),)"
      ]
     },
     "execution_count": 38,
     "metadata": {},
     "output_type": "execute_result"
    }
   ],
   "source": [
    "## find min\n",
    "np.where(data_train_label==np.min(data_train_label))"
   ]
  },
  {
   "cell_type": "code",
   "execution_count": 39,
   "metadata": {},
   "outputs": [
    {
     "data": {
      "text/plain": [
       "array([0., 1., 2., 3., 4., 5., 6.])"
      ]
     },
     "execution_count": 39,
     "metadata": {},
     "output_type": "execute_result"
    }
   ],
   "source": [
    "## find uniques\n",
    "np.unique(data_train_label)"
   ]
  },
  {
   "cell_type": "code",
   "execution_count": 45,
   "id": "698b7509",
   "metadata": {},
   "outputs": [
    {
     "data": {
      "text/html": [
       "<div>\n",
       "<style scoped>\n",
       "    .dataframe tbody tr th:only-of-type {\n",
       "        vertical-align: middle;\n",
       "    }\n",
       "\n",
       "    .dataframe tbody tr th {\n",
       "        vertical-align: top;\n",
       "    }\n",
       "\n",
       "    .dataframe thead th {\n",
       "        text-align: right;\n",
       "    }\n",
       "</style>\n",
       "<table border=\"1\" class=\"dataframe\">\n",
       "  <thead>\n",
       "    <tr style=\"text-align: right;\">\n",
       "      <th></th>\n",
       "      <th>F1</th>\n",
       "      <th>F2</th>\n",
       "      <th>F3</th>\n",
       "      <th>F4</th>\n",
       "      <th>F5</th>\n",
       "      <th>F6</th>\n",
       "      <th>F7</th>\n",
       "      <th>F8</th>\n",
       "      <th>Label</th>\n",
       "    </tr>\n",
       "  </thead>\n",
       "  <tbody>\n",
       "    <tr>\n",
       "      <th>0</th>\n",
       "      <td>0.145656</td>\n",
       "      <td>0.152954</td>\n",
       "      <td>0.029353</td>\n",
       "      <td>0.013258</td>\n",
       "      <td>0.487958</td>\n",
       "      <td>0.272209</td>\n",
       "      <td>0.149786</td>\n",
       "      <td>0.056021</td>\n",
       "      <td>0.0</td>\n",
       "    </tr>\n",
       "    <tr>\n",
       "      <th>1</th>\n",
       "      <td>0.161642</td>\n",
       "      <td>0.037914</td>\n",
       "      <td>0.008152</td>\n",
       "      <td>0.015038</td>\n",
       "      <td>0.485591</td>\n",
       "      <td>0.273006</td>\n",
       "      <td>0.150057</td>\n",
       "      <td>0.061644</td>\n",
       "      <td>0.0</td>\n",
       "    </tr>\n",
       "    <tr>\n",
       "      <th>2</th>\n",
       "      <td>0.102252</td>\n",
       "      <td>0.007947</td>\n",
       "      <td>0.003004</td>\n",
       "      <td>0.026775</td>\n",
       "      <td>0.469134</td>\n",
       "      <td>0.222267</td>\n",
       "      <td>0.105493</td>\n",
       "      <td>0.101103</td>\n",
       "      <td>0.0</td>\n",
       "    </tr>\n",
       "    <tr>\n",
       "      <th>3</th>\n",
       "      <td>0.101629</td>\n",
       "      <td>0.007554</td>\n",
       "      <td>0.003805</td>\n",
       "      <td>0.035377</td>\n",
       "      <td>0.456785</td>\n",
       "      <td>0.069741</td>\n",
       "      <td>0.043349</td>\n",
       "      <td>0.124622</td>\n",
       "      <td>0.0</td>\n",
       "    </tr>\n",
       "    <tr>\n",
       "      <th>4</th>\n",
       "      <td>0.084450</td>\n",
       "      <td>0.012880</td>\n",
       "      <td>0.007234</td>\n",
       "      <td>0.039552</td>\n",
       "      <td>0.510779</td>\n",
       "      <td>0.250722</td>\n",
       "      <td>0.168897</td>\n",
       "      <td>0.120275</td>\n",
       "      <td>0.0</td>\n",
       "    </tr>\n",
       "    <tr>\n",
       "      <th>...</th>\n",
       "      <td>...</td>\n",
       "      <td>...</td>\n",
       "      <td>...</td>\n",
       "      <td>...</td>\n",
       "      <td>...</td>\n",
       "      <td>...</td>\n",
       "      <td>...</td>\n",
       "      <td>...</td>\n",
       "      <td>...</td>\n",
       "    </tr>\n",
       "    <tr>\n",
       "      <th>4284895</th>\n",
       "      <td>0.000000</td>\n",
       "      <td>0.000000</td>\n",
       "      <td>0.000000</td>\n",
       "      <td>0.000000</td>\n",
       "      <td>0.000000</td>\n",
       "      <td>0.000000</td>\n",
       "      <td>0.000000</td>\n",
       "      <td>0.000000</td>\n",
       "      <td>0.0</td>\n",
       "    </tr>\n",
       "    <tr>\n",
       "      <th>4284896</th>\n",
       "      <td>0.000000</td>\n",
       "      <td>0.000000</td>\n",
       "      <td>0.000000</td>\n",
       "      <td>0.000000</td>\n",
       "      <td>0.000000</td>\n",
       "      <td>0.000000</td>\n",
       "      <td>0.000000</td>\n",
       "      <td>0.000000</td>\n",
       "      <td>0.0</td>\n",
       "    </tr>\n",
       "    <tr>\n",
       "      <th>4284897</th>\n",
       "      <td>0.000000</td>\n",
       "      <td>0.000000</td>\n",
       "      <td>0.000000</td>\n",
       "      <td>0.000000</td>\n",
       "      <td>0.000000</td>\n",
       "      <td>0.000000</td>\n",
       "      <td>0.000000</td>\n",
       "      <td>0.000000</td>\n",
       "      <td>0.0</td>\n",
       "    </tr>\n",
       "    <tr>\n",
       "      <th>4284898</th>\n",
       "      <td>0.000000</td>\n",
       "      <td>0.000000</td>\n",
       "      <td>0.000000</td>\n",
       "      <td>0.000000</td>\n",
       "      <td>0.000000</td>\n",
       "      <td>0.000000</td>\n",
       "      <td>0.000000</td>\n",
       "      <td>0.000000</td>\n",
       "      <td>0.0</td>\n",
       "    </tr>\n",
       "    <tr>\n",
       "      <th>4284899</th>\n",
       "      <td>0.000000</td>\n",
       "      <td>0.000000</td>\n",
       "      <td>0.000000</td>\n",
       "      <td>0.000000</td>\n",
       "      <td>0.000000</td>\n",
       "      <td>0.000000</td>\n",
       "      <td>0.000000</td>\n",
       "      <td>0.000000</td>\n",
       "      <td>0.0</td>\n",
       "    </tr>\n",
       "  </tbody>\n",
       "</table>\n",
       "<p>4284900 rows × 9 columns</p>\n",
       "</div>"
      ],
      "text/plain": [
       "               F1        F2        F3        F4        F5        F6        F7  \\\n",
       "0        0.145656  0.152954  0.029353  0.013258  0.487958  0.272209  0.149786   \n",
       "1        0.161642  0.037914  0.008152  0.015038  0.485591  0.273006  0.150057   \n",
       "2        0.102252  0.007947  0.003004  0.026775  0.469134  0.222267  0.105493   \n",
       "3        0.101629  0.007554  0.003805  0.035377  0.456785  0.069741  0.043349   \n",
       "4        0.084450  0.012880  0.007234  0.039552  0.510779  0.250722  0.168897   \n",
       "...           ...       ...       ...       ...       ...       ...       ...   \n",
       "4284895  0.000000  0.000000  0.000000  0.000000  0.000000  0.000000  0.000000   \n",
       "4284896  0.000000  0.000000  0.000000  0.000000  0.000000  0.000000  0.000000   \n",
       "4284897  0.000000  0.000000  0.000000  0.000000  0.000000  0.000000  0.000000   \n",
       "4284898  0.000000  0.000000  0.000000  0.000000  0.000000  0.000000  0.000000   \n",
       "4284899  0.000000  0.000000  0.000000  0.000000  0.000000  0.000000  0.000000   \n",
       "\n",
       "               F8  Label  \n",
       "0        0.056021    0.0  \n",
       "1        0.061644    0.0  \n",
       "2        0.101103    0.0  \n",
       "3        0.124622    0.0  \n",
       "4        0.120275    0.0  \n",
       "...           ...    ...  \n",
       "4284895  0.000000    0.0  \n",
       "4284896  0.000000    0.0  \n",
       "4284897  0.000000    0.0  \n",
       "4284898  0.000000    0.0  \n",
       "4284899  0.000000    0.0  \n",
       "\n",
       "[4284900 rows x 9 columns]"
      ]
     },
     "execution_count": 45,
     "metadata": {},
     "output_type": "execute_result"
    }
   ],
   "source": [
    "# Convert to a dataframe and save it in csv\n",
    "df_train = pd.DataFrame(data=np.column_stack((data_train, data_train_label)))\n",
    "df_train.columns = [\"F\"+str(i) for i in range(1, len(df_train.columns) + 1)]\n",
    "df_train.rename(columns={'F9': 'Label'}, inplace=True)\n",
    "df_train"
   ]
  },
  {
   "cell_type": "code",
   "execution_count": 43,
   "id": "8b925932",
   "metadata": {},
   "outputs": [
    {
     "data": {
      "text/html": [
       "<div>\n",
       "<style scoped>\n",
       "    .dataframe tbody tr th:only-of-type {\n",
       "        vertical-align: middle;\n",
       "    }\n",
       "\n",
       "    .dataframe tbody tr th {\n",
       "        vertical-align: top;\n",
       "    }\n",
       "\n",
       "    .dataframe thead th {\n",
       "        text-align: right;\n",
       "    }\n",
       "</style>\n",
       "<table border=\"1\" class=\"dataframe\">\n",
       "  <thead>\n",
       "    <tr style=\"text-align: right;\">\n",
       "      <th></th>\n",
       "      <th>F1</th>\n",
       "      <th>F2</th>\n",
       "      <th>F3</th>\n",
       "      <th>F4</th>\n",
       "      <th>F5</th>\n",
       "      <th>F6</th>\n",
       "      <th>F7</th>\n",
       "      <th>F8</th>\n",
       "      <th>Label</th>\n",
       "    </tr>\n",
       "  </thead>\n",
       "  <tbody>\n",
       "    <tr>\n",
       "      <th>0</th>\n",
       "      <td>0.076467</td>\n",
       "      <td>0.095720</td>\n",
       "      <td>0.019321</td>\n",
       "      <td>0.010044</td>\n",
       "      <td>0.896764</td>\n",
       "      <td>0.117228</td>\n",
       "      <td>0.068013</td>\n",
       "      <td>0.103472</td>\n",
       "      <td>0.0</td>\n",
       "    </tr>\n",
       "    <tr>\n",
       "      <th>1</th>\n",
       "      <td>0.080711</td>\n",
       "      <td>0.110469</td>\n",
       "      <td>0.028849</td>\n",
       "      <td>0.014305</td>\n",
       "      <td>0.862462</td>\n",
       "      <td>0.151996</td>\n",
       "      <td>0.091932</td>\n",
       "      <td>0.105959</td>\n",
       "      <td>0.0</td>\n",
       "    </tr>\n",
       "    <tr>\n",
       "      <th>2</th>\n",
       "      <td>0.079685</td>\n",
       "      <td>0.075259</td>\n",
       "      <td>0.021964</td>\n",
       "      <td>0.016503</td>\n",
       "      <td>0.793803</td>\n",
       "      <td>0.142263</td>\n",
       "      <td>0.100381</td>\n",
       "      <td>0.115297</td>\n",
       "      <td>0.0</td>\n",
       "    </tr>\n",
       "    <tr>\n",
       "      <th>3</th>\n",
       "      <td>0.114616</td>\n",
       "      <td>0.047981</td>\n",
       "      <td>0.009772</td>\n",
       "      <td>0.010209</td>\n",
       "      <td>0.688007</td>\n",
       "      <td>0.128244</td>\n",
       "      <td>0.102531</td>\n",
       "      <td>0.061526</td>\n",
       "      <td>0.0</td>\n",
       "    </tr>\n",
       "    <tr>\n",
       "      <th>4</th>\n",
       "      <td>0.114824</td>\n",
       "      <td>0.018641</td>\n",
       "      <td>0.009672</td>\n",
       "      <td>0.032108</td>\n",
       "      <td>0.600439</td>\n",
       "      <td>0.106743</td>\n",
       "      <td>0.092132</td>\n",
       "      <td>0.073630</td>\n",
       "      <td>0.0</td>\n",
       "    </tr>\n",
       "    <tr>\n",
       "      <th>...</th>\n",
       "      <td>...</td>\n",
       "      <td>...</td>\n",
       "      <td>...</td>\n",
       "      <td>...</td>\n",
       "      <td>...</td>\n",
       "      <td>...</td>\n",
       "      <td>...</td>\n",
       "      <td>...</td>\n",
       "      <td>...</td>\n",
       "    </tr>\n",
       "    <tr>\n",
       "      <th>59155</th>\n",
       "      <td>0.000000</td>\n",
       "      <td>0.000000</td>\n",
       "      <td>0.000000</td>\n",
       "      <td>0.000000</td>\n",
       "      <td>0.000000</td>\n",
       "      <td>0.000000</td>\n",
       "      <td>0.000000</td>\n",
       "      <td>0.000000</td>\n",
       "      <td>0.0</td>\n",
       "    </tr>\n",
       "    <tr>\n",
       "      <th>59156</th>\n",
       "      <td>0.000000</td>\n",
       "      <td>0.000000</td>\n",
       "      <td>0.000000</td>\n",
       "      <td>0.000000</td>\n",
       "      <td>0.000000</td>\n",
       "      <td>0.000000</td>\n",
       "      <td>0.000000</td>\n",
       "      <td>0.000000</td>\n",
       "      <td>0.0</td>\n",
       "    </tr>\n",
       "    <tr>\n",
       "      <th>59157</th>\n",
       "      <td>0.000000</td>\n",
       "      <td>0.000000</td>\n",
       "      <td>0.000000</td>\n",
       "      <td>0.000000</td>\n",
       "      <td>0.000000</td>\n",
       "      <td>0.000000</td>\n",
       "      <td>0.000000</td>\n",
       "      <td>0.000000</td>\n",
       "      <td>0.0</td>\n",
       "    </tr>\n",
       "    <tr>\n",
       "      <th>59158</th>\n",
       "      <td>0.000000</td>\n",
       "      <td>0.000000</td>\n",
       "      <td>0.000000</td>\n",
       "      <td>0.000000</td>\n",
       "      <td>0.000000</td>\n",
       "      <td>0.000000</td>\n",
       "      <td>0.000000</td>\n",
       "      <td>0.000000</td>\n",
       "      <td>0.0</td>\n",
       "    </tr>\n",
       "    <tr>\n",
       "      <th>59159</th>\n",
       "      <td>0.000000</td>\n",
       "      <td>0.000000</td>\n",
       "      <td>0.000000</td>\n",
       "      <td>0.000000</td>\n",
       "      <td>0.000000</td>\n",
       "      <td>0.000000</td>\n",
       "      <td>0.000000</td>\n",
       "      <td>0.000000</td>\n",
       "      <td>0.0</td>\n",
       "    </tr>\n",
       "  </tbody>\n",
       "</table>\n",
       "<p>59160 rows × 9 columns</p>\n",
       "</div>"
      ],
      "text/plain": [
       "             F1        F2        F3        F4        F5        F6        F7  \\\n",
       "0      0.076467  0.095720  0.019321  0.010044  0.896764  0.117228  0.068013   \n",
       "1      0.080711  0.110469  0.028849  0.014305  0.862462  0.151996  0.091932   \n",
       "2      0.079685  0.075259  0.021964  0.016503  0.793803  0.142263  0.100381   \n",
       "3      0.114616  0.047981  0.009772  0.010209  0.688007  0.128244  0.102531   \n",
       "4      0.114824  0.018641  0.009672  0.032108  0.600439  0.106743  0.092132   \n",
       "...         ...       ...       ...       ...       ...       ...       ...   \n",
       "59155  0.000000  0.000000  0.000000  0.000000  0.000000  0.000000  0.000000   \n",
       "59156  0.000000  0.000000  0.000000  0.000000  0.000000  0.000000  0.000000   \n",
       "59157  0.000000  0.000000  0.000000  0.000000  0.000000  0.000000  0.000000   \n",
       "59158  0.000000  0.000000  0.000000  0.000000  0.000000  0.000000  0.000000   \n",
       "59159  0.000000  0.000000  0.000000  0.000000  0.000000  0.000000  0.000000   \n",
       "\n",
       "             F8  Label  \n",
       "0      0.103472    0.0  \n",
       "1      0.105959    0.0  \n",
       "2      0.115297    0.0  \n",
       "3      0.061526    0.0  \n",
       "4      0.073630    0.0  \n",
       "...         ...    ...  \n",
       "59155  0.000000    0.0  \n",
       "59156  0.000000    0.0  \n",
       "59157  0.000000    0.0  \n",
       "59158  0.000000    0.0  \n",
       "59159  0.000000    0.0  \n",
       "\n",
       "[59160 rows x 9 columns]"
      ]
     },
     "execution_count": 43,
     "metadata": {},
     "output_type": "execute_result"
    }
   ],
   "source": [
    "# Convert to a dataframe and save it in csv\n",
    "df_test = pd.DataFrame(data=np.column_stack((data_test, data_test_label)))\n",
    "df_test.columns = [\"F\"+str(i) for i in range(1, len(df_test.columns) + 1)]\n",
    "df_test.rename(columns={'F9': 'Label'}, inplace=True)\n",
    "df_test\n"
   ]
  },
  {
   "cell_type": "code",
   "execution_count": 46,
   "id": "5db8aeeb",
   "metadata": {},
   "outputs": [],
   "source": [
    "df_train.to_csv('data/data_train.csv')\n",
    "df_test.to_csv('data/data_test.csv')"
   ]
  },
  {
   "cell_type": "markdown",
   "metadata": {},
   "source": [
    "### Classifier"
   ]
  },
  {
   "cell_type": "code",
   "execution_count": 17,
   "metadata": {},
   "outputs": [],
   "source": [
    "from sklearn import svm\n",
    "clf = svm.SVC()\n",
    "clf.fit(data_train, data_train_label)\n"
   ]
  },
  {
   "cell_type": "code",
   "execution_count": 47,
   "metadata": {},
   "outputs": [
    {
     "data": {
      "text/plain": [
       "(2070, 60, 12)"
      ]
     },
     "execution_count": 47,
     "metadata": {},
     "output_type": "execute_result"
    }
   ],
   "source": [
    "dataset['train']['hand_crafted_features']['GSR_features'].shape\n"
   ]
  },
  {
   "cell_type": "code",
   "execution_count": 48,
   "metadata": {},
   "outputs": [
    {
     "data": {
      "text/plain": [
       "(986, 60, 12)"
      ]
     },
     "execution_count": 48,
     "metadata": {},
     "output_type": "execute_result"
    }
   ],
   "source": [
    "dataset['test']['hand_crafted_features']['GSR_features'].shape"
   ]
  }
 ],
 "metadata": {
  "kernelspec": {
   "display_name": "Python 3.8.3",
   "language": "python",
   "name": "python3"
  },
  "language_info": {
   "codemirror_mode": {
    "name": "ipython",
    "version": 3
   },
   "file_extension": ".py",
   "mimetype": "text/x-python",
   "name": "python",
   "nbconvert_exporter": "python",
   "pygments_lexer": "ipython3",
   "version": "3.8.3"
  },
  "vscode": {
   "interpreter": {
    "hash": "3067ead486e059ec00ffe7555bdb889e6e264a24dc711bf108106cc7baee8d5d"
   }
  }
 },
 "nbformat": 4,
 "nbformat_minor": 5
}
