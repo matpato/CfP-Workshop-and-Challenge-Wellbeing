{
 "cells": [
  {
   "cell_type": "markdown",
   "id": "1399e991",
   "metadata": {},
   "source": [
    "# Challenge: Workshop and Challenge on Detection of Stress and Mental Health Using Wearable Sensors\n",
    "\n",
    "<ul>\n",
    "    <li><a href=\"#1\">1. Data retrieval and cleaning</a></li>\n",
    "</ul>\n",
    "   \n",
    "<ul>\n",
    "   <li>&nbsp;&nbsp;&nbsp;&nbsp;&nbsp;&nbsp;&nbsp;&nbsp;<a href=\"#1.1\">1.1.Import libraries</a></li>\n",
    "</ul>\n",
    "\n",
    "<ul>\n",
    "   <li>&nbsp;&nbsp;&nbsp;&nbsp;&nbsp;&nbsp;&nbsp;&nbsp;<a href=\"#1.2\">1.2. Retrieve dataset</a></li>\n",
    "</ul>\n",
    "<ul>\n",
    "   <li>&nbsp;&nbsp;&nbsp;&nbsp;&nbsp;&nbsp;&nbsp;&nbsp;<a href=\"#1.4\">1.3. Selecting a sample</a></li>\n",
    "</ul>\n",
    "\n",
    "\n",
    "<ul>\n",
    "   <li><a href=\"#4\">4. Data statistics</a></li>\n",
    "</ul>\n"
   ]
  },
  {
   "cell_type": "markdown",
   "id": "e4e92452",
   "metadata": {},
   "source": [
    "<a id=\"1\"></a>\n",
    "\n",
    "## 1. Data retrieval + cleaning"
   ]
  },
  {
   "cell_type": "markdown",
   "id": "5eb20014",
   "metadata": {},
   "source": [
    "<a id=\"1.1\"></a>\n",
    "### 1.1 Import libraries"
   ]
  },
  {
   "cell_type": "code",
   "execution_count": null,
   "id": "d0e871d9",
   "metadata": {},
   "outputs": [],
   "source": [
    "import json\n",
    "import os\n",
    "import pandas as pd\n",
    "import requests\n",
    "import sys"
   ]
  },
  {
   "cell_type": "code",
   "execution_count": null,
   "id": "e2789ce7",
   "metadata": {},
   "outputs": [],
   "source": [
    "pip3 install --upgrade pip"
   ]
  },
  {
   "cell_type": "markdown",
   "id": "1b11a9ef",
   "metadata": {},
   "source": [
    "<a id=\"1.2\"></a>\n",
    "### 1.2. Retrieve SMILE\n",
    "\n",
    "The SMILE dataset was collected from 45 healthy adult participants (39 females and 6 males) in Belgium. The average age of participants was 24.5 years old, with a standard deviation of 3.0 years. Each participant contributed to an average of 8.7 days of data. Two types of wearable sensors were used for data collection. One was a wrist-worn device (Chillband, IMEC, Belgium) designed for the measurement of skin conductance (SC), ST, and acceleration data (ACC). The second sensor was a chest patch (Health Patch, IMEC, Belgium) to measure ECG and ACC. It contains a sensor node designed to monitor ECG at 256 Hz and ACC at 32 Hz continuously throughout the study period. Participants could remove the sensors while showering or before doing intense exercises. Also, participants received notifications on their mobile phones to report their momentary stress levels daily. "
   ]
  },
  {
   "cell_type": "code",
   "execution_count": 2,
   "id": "61c7b9c6",
   "metadata": {},
   "outputs": [],
   "source": [
    "dataset = np.load('./dataset_smile.npy', allow_pickle=True).item()"
   ]
  },
  {
   "cell_type": "markdown",
   "id": "9515d0ad",
   "metadata": {},
   "source": [
    "Let's explore the contents of the dataset directory"
   ]
  },
  {
   "cell_type": "code",
   "execution_count": 3,
   "id": "f3c69c96",
   "metadata": {},
   "outputs": [],
   "source": [
    "# for training and testing data:\n",
    "\n",
    "dataset_train = dataset['train']\n",
    "\n",
    "dataset_test = dataset['test']\n",
    "\n",
    "# for deep features.\n",
    "\n",
    "deep_features = dataset_train['deep_features']\n",
    "\n",
    "# conv1d backbone based features for ECG signal.\n",
    "\n",
    "deep_features['ECG_features_C'] \n",
    "\n",
    "# transformer backbone basde features for ECG signal  \n",
    "\n",
    "deep_features['ECG_features_T']   \n",
    "\n",
    "# for hand-crafted features.\n",
    "\n",
    "handcrafted_features = dataset_train['hand_crafted_features']\n",
    "\n",
    "# handcrafted features for ECG signal\n",
    "\n",
    "handcrafted_features['ECG_features'] \n",
    "\n",
    " # handcrafted features for GSR signal. \n",
    "\n",
    "handcrafted_features['GSR_features'] \n",
    "\n",
    "# for labels.\n",
    "\n",
    "labels = dataset_train['labels']  # labels."
   ]
  },
  {
   "cell_type": "markdown",
   "id": "33dc814a",
   "metadata": {},
   "source": [
    "Now we have a DataFrame with the contents of the metadata file."
   ]
  },
  {
   "cell_type": "markdown",
   "id": "55da9e91",
   "metadata": {},
   "source": [
    "<a id=\"4\"></a>\n",
    "## 4. Data statistics "
   ]
  }
 ],
 "metadata": {
  "kernelspec": {
   "display_name": "recsys_scifi",
   "language": "python",
   "name": "recsys_scifi"
  },
  "language_info": {
   "codemirror_mode": {
    "name": "ipython",
    "version": 3
   },
   "file_extension": ".py",
   "mimetype": "text/x-python",
   "name": "python",
   "nbconvert_exporter": "python",
   "pygments_lexer": "ipython3",
   "version": "3.9.7"
  }
 },
 "nbformat": 4,
 "nbformat_minor": 5
}
