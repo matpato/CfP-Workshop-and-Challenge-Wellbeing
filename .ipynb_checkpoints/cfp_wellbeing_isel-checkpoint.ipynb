{
 "cells": [
  {
   "cell_type": "markdown",
   "id": "7312973f",
   "metadata": {},
   "source": [
    "# Challenge: Workshop and Challenge on Detection of Stress and Mental Health Using Wearable Sensors\n",
    "\n",
    "<ul>\n",
    "    <li><a href=\"#1\">1. Data retrieval and cleaning</a></li>\n",
    "</ul>\n",
    "   \n",
    "<ul>\n",
    "   <li>&nbsp;&nbsp;&nbsp;&nbsp;&nbsp;&nbsp;&nbsp;&nbsp;<a href=\"#1.1\">1.1.Import libraries</a></li>\n",
    "</ul>\n",
    "\n",
    "<ul>\n",
    "   <li>&nbsp;&nbsp;&nbsp;&nbsp;&nbsp;&nbsp;&nbsp;&nbsp;<a href=\"#1.2\">1.2. Retrieve dataset</a></li>\n",
    "</ul>\n",
    "<ul>\n",
    "   <li>&nbsp;&nbsp;&nbsp;&nbsp;&nbsp;&nbsp;&nbsp;&nbsp;<a href=\"#1.4\">1.3. Selecting a sample</a></li>\n",
    "</ul>\n",
    "\n",
    "\n",
    "<ul>\n",
    "   <li><a href=\"#4\">4. Data statistics</a></li>\n",
    "</ul>\n"
   ]
  },
  {
   "cell_type": "markdown",
   "id": "29ad409d",
   "metadata": {},
   "source": [
    "<a id=\"1\"></a>\n",
    "\n",
    "## 1. Data retrieval + cleaning"
   ]
  },
  {
   "cell_type": "markdown",
   "id": "01c5b590",
   "metadata": {},
   "source": [
    "<a id=\"1.1\"></a>\n",
    "### 1.1 Import libraries"
   ]
  },
  {
   "cell_type": "code",
   "execution_count": 1,
   "id": "180de24e",
   "metadata": {},
   "outputs": [],
   "source": [
    "import json\n",
    "import os\n",
    "import pandas as pd\n",
    "import requests\n",
    "import sys\n",
    "import numpy as np"
   ]
  },
  {
   "cell_type": "code",
   "execution_count": 3,
   "id": "bb197ba7",
   "metadata": {},
   "outputs": [
    {
     "name": "stdout",
     "output_type": "stream",
     "text": [
      "Defaulting to user installation because normal site-packages is not writeable\n",
      "Requirement already satisfied: pip in /home/nunog/.local/lib/python3.10/site-packages (22.1.2)\n",
      "Note: you may need to restart the kernel to use updated packages.\n"
     ]
    }
   ],
   "source": [
    "pip install --upgrade pip  "
   ]
  },
  {
   "cell_type": "markdown",
   "id": "8084af7d",
   "metadata": {},
   "source": [
    "<a id=\"1.2\"></a>\n",
    "### 1.2. Retrieve SMILE\n",
    "\n",
    "The SMILE dataset was collected from 45 healthy adult participants (39 females and 6 males) in Belgium. The average age of participants was 24.5 years old, with a standard deviation of 3.0 years. Each participant contributed to an average of 8.7 days of data. Two types of wearable sensors were used for data collection. One was a wrist-worn device (Chillband, IMEC, Belgium) designed for the measurement of skin conductance (SC), ST, and acceleration data (ACC). The second sensor was a chest patch (Health Patch, IMEC, Belgium) to measure ECG and ACC. It contains a sensor node designed to monitor ECG at 256 Hz and ACC at 32 Hz continuously throughout the study period. Participants could remove the sensors while showering or before doing intense exercises. Also, participants received notifications on their mobile phones to report their momentary stress levels daily. "
   ]
  },
  {
   "cell_type": "markdown",
   "id": "14088eae",
   "metadata": {},
   "source": [
    "https://compwell.rice.edu/workshops/embc2022/dataset"
   ]
  },
  {
   "cell_type": "code",
   "execution_count": 4,
   "id": "e7033805",
   "metadata": {},
   "outputs": [],
   "source": [
    "dataset = np.load('dataset/dataset_smile_challenge.npy', allow_pickle=True).item()"
   ]
  },
  {
   "cell_type": "markdown",
   "id": "09afef48",
   "metadata": {},
   "source": [
    "    dict\n",
    "        dictionary with dataset, with keys:\n",
    "         * `train`\n",
    "          * `deep_features`\n",
    "           * `ECG_features_C`\n",
    "           * `ECG_features_T`\n",
    "           * `masking`\n",
    "          * `hand_crafted_features`\n",
    "           * `ECG_features`\n",
    "           * `ECG_masking`\n",
    "           * `GSR_features`\n",
    "           * `GSR_masking`\n",
    "          * `labels`\n",
    "         * `test`\n",
    "          * Same structure as `train`"
   ]
  },
  {
   "cell_type": "markdown",
   "id": "471ff7a1",
   "metadata": {},
   "source": [
    "Let's explore the contents of the dataset directory"
   ]
  },
  {
   "cell_type": "code",
   "execution_count": 5,
   "id": "8a9cf851",
   "metadata": {},
   "outputs": [],
   "source": [
    "\n",
    "\n",
    "# for training and testing data:\n",
    "\n",
    "dataset_train = dataset['train']\n",
    "\n",
    "dataset_test = dataset['test']\n",
    "\n",
    "# for deep features.\n",
    "\n",
    "deep_features = dataset_train['deep_features']\n",
    "\n",
    "# conv1d backbone based features for ECG signal.\n",
    "\n",
    "deep_features['ECG_features_C'] \n",
    "\n",
    "# transformer backbone basde features for ECG signal  \n",
    "\n",
    "deep_features['ECG_features_T']   \n",
    "\n",
    "# for hand-crafted features.\n",
    "\n",
    "handcrafted_features = dataset_train['hand_crafted_features']\n",
    "\n",
    "# handcrafted features for ECG signal\n",
    "\n",
    "handcrafted_features['ECG_features'] \n",
    "\n",
    " # handcrafted features for GSR signal. \n",
    "\n",
    "handcrafted_features['GSR_features'] \n",
    "\n",
    "# for labels.\n",
    "\n",
    "labels = dataset_train['labels']  # labels."
   ]
  },
  {
   "cell_type": "code",
   "execution_count": 6,
   "id": "ec62f7e3",
   "metadata": {},
   "outputs": [
    {
     "data": {
      "text/plain": [
       "2070"
      ]
     },
     "execution_count": 6,
     "metadata": {},
     "output_type": "execute_result"
    }
   ],
   "source": [
    "len(dataset['train']['labels'])"
   ]
  },
  {
   "cell_type": "code",
   "execution_count": 7,
   "id": "dec4d559",
   "metadata": {},
   "outputs": [
    {
     "data": {
      "text/plain": [
       "dict_keys(['deep_features', 'hand_crafted_features', 'labels'])"
      ]
     },
     "execution_count": 7,
     "metadata": {},
     "output_type": "execute_result"
    }
   ],
   "source": [
    "dataset['train'].keys()"
   ]
  },
  {
   "cell_type": "markdown",
   "id": "3ec92dce",
   "metadata": {},
   "source": [
    "Now we have a DataFrame with the contents of the metadata file."
   ]
  },
  {
   "cell_type": "markdown",
   "id": "4732f9f1",
   "metadata": {},
   "source": [
    "<a id=\"4\"></a>\n",
    "## 4. Data statistics "
   ]
  },
  {
   "cell_type": "code",
   "execution_count": 8,
   "id": "e9cf6674",
   "metadata": {},
   "outputs": [
    {
     "data": {
      "text/plain": [
       "(2070, 60, 8)"
      ]
     },
     "execution_count": 8,
     "metadata": {},
     "output_type": "execute_result"
    }
   ],
   "source": [
    "handcrafted_features['ECG_features'].shape"
   ]
  },
  {
   "cell_type": "markdown",
   "id": "641480a7",
   "metadata": {},
   "source": [
    "Load SMILE dataset as a dictionary from npy file.\n",
    "Each feature matrix has 3 dimensions:\n",
    "* sequence (of 60 minutes)\n",
    "* window (5 minute with 4 min overlap)\n",
    "* feature"
   ]
  },
  {
   "cell_type": "markdown",
   "id": "7aafdb8a",
   "metadata": {},
   "source": [
    "## ECG Features\n",
    "* feature and label vector construction\n",
    "* creation of classifier"
   ]
  },
  {
   "cell_type": "code",
   "execution_count": 9,
   "id": "a6fe7c14",
   "metadata": {},
   "outputs": [
    {
     "data": {
      "text/plain": [
       "2070"
      ]
     },
     "execution_count": 9,
     "metadata": {},
     "output_type": "execute_result"
    }
   ],
   "source": [
    "len(handcrafted_features['ECG_features'])"
   ]
  },
  {
   "cell_type": "code",
   "execution_count": 10,
   "id": "e520727a",
   "metadata": {},
   "outputs": [
    {
     "data": {
      "text/plain": [
       "(60, 8)"
      ]
     },
     "execution_count": 10,
     "metadata": {},
     "output_type": "execute_result"
    }
   ],
   "source": [
    "handcrafted_features['ECG_features'][0].shape #tem uma sequencia de 60 minutos ?"
   ]
  },
  {
   "cell_type": "code",
   "execution_count": 11,
   "id": "c6a04e10",
   "metadata": {},
   "outputs": [
    {
     "data": {
      "text/plain": [
       "array([0.14565595, 0.15295387, 0.02935256, 0.01325846, 0.4879581 ,\n",
       "       0.27220871, 0.14978604, 0.05602099])"
      ]
     },
     "execution_count": 11,
     "metadata": {},
     "output_type": "execute_result"
    }
   ],
   "source": [
    "# representa as features extraidas de 1 janela da sequencia (correspondente a 5 minutos)\n",
    "handcrafted_features['ECG_features'][0][0] "
   ]
  },
  {
   "cell_type": "code",
   "execution_count": 12,
   "id": "5d91071f",
   "metadata": {},
   "outputs": [],
   "source": [
    "nfeatures=len(handcrafted_features['ECG_features'][0][0])\n",
    "n= len(handcrafted_features['ECG_features'])*len(handcrafted_features['ECG_features'][0])\n",
    "# variaveis e iniciação a zero\n",
    "handcrafted_features_vector=np.zeros((n,nfeatures)) #X\n",
    "labels_vectors=np.zeros(n) #y\n",
    "#\n",
    "count=0\n",
    "for i in range(len(handcrafted_features['ECG_features'])):\n",
    "    label=dataset_train['labels'][i]\n",
    "    for j in range(len(handcrafted_features['ECG_features'][i])):\n",
    "        if(np.sum(np.isnan(handcrafted_features['ECG_features'][i][j]))==0):\n",
    "            # nao considerar os nan\n",
    "            handcrafted_features_vector[count,0:nfeatures]=handcrafted_features['ECG_features'][i][j]\n",
    "            labels_vectors[count]=label\n",
    "            count=count+1"
   ]
  },
  {
   "cell_type": "code",
   "execution_count": 13,
   "id": "3bbf186e",
   "metadata": {},
   "outputs": [
    {
     "data": {
      "text/plain": [
       "array([[1, 2, 3],\n",
       "       [0, 0, 0],\n",
       "       [4, 5, 6],\n",
       "       [0, 0, 0],\n",
       "       [7, 8, 9],\n",
       "       [0, 0, 0]])"
      ]
     },
     "execution_count": 13,
     "metadata": {},
     "output_type": "execute_result"
    }
   ],
   "source": [
    "data = np.array([[1, 2, 3], [0, 0, 0], [4, 5, 6], [0, 0, 0], [7, 8, 9], [0, 0, 0]])\n",
    "data"
   ]
  },
  {
   "cell_type": "code",
   "execution_count": 14,
   "id": "9a63e10f",
   "metadata": {},
   "outputs": [
    {
     "data": {
      "text/plain": [
       "array([[1, 2, 3],\n",
       "       [0, 0, 0],\n",
       "       [4, 5, 6],\n",
       "       [0, 0, 0]])"
      ]
     },
     "execution_count": 14,
     "metadata": {},
     "output_type": "execute_result"
    }
   ],
   "source": [
    "data1= np.delete(data,range(4,6),0)\n",
    "data1"
   ]
  },
  {
   "cell_type": "code",
   "execution_count": 15,
   "id": "02e7446c",
   "metadata": {},
   "outputs": [
    {
     "data": {
      "text/plain": [
       "array([[1, 2, 3],\n",
       "       [4, 5, 6],\n",
       "       [7, 8, 9]])"
      ]
     },
     "execution_count": 15,
     "metadata": {},
     "output_type": "execute_result"
    }
   ],
   "source": [
    "data[~np.all(data ==0, axis=1)]"
   ]
  },
  {
   "cell_type": "code",
   "execution_count": 16,
   "id": "501526c1",
   "metadata": {},
   "outputs": [
    {
     "data": {
      "text/plain": [
       "array([[0., 0., 0., 0., 0., 0., 0., 0.],\n",
       "       [0., 0., 0., 0., 0., 0., 0., 0.],\n",
       "       [0., 0., 0., 0., 0., 0., 0., 0.],\n",
       "       [0., 0., 0., 0., 0., 0., 0., 0.],\n",
       "       [0., 0., 0., 0., 0., 0., 0., 0.],\n",
       "       [0., 0., 0., 0., 0., 0., 0., 0.],\n",
       "       [0., 0., 0., 0., 0., 0., 0., 0.],\n",
       "       [0., 0., 0., 0., 0., 0., 0., 0.],\n",
       "       [0., 0., 0., 0., 0., 0., 0., 0.],\n",
       "       [0., 0., 0., 0., 0., 0., 0., 0.],\n",
       "       [0., 0., 0., 0., 0., 0., 0., 0.],\n",
       "       [0., 0., 0., 0., 0., 0., 0., 0.],\n",
       "       [0., 0., 0., 0., 0., 0., 0., 0.],\n",
       "       [0., 0., 0., 0., 0., 0., 0., 0.],\n",
       "       [0., 0., 0., 0., 0., 0., 0., 0.],\n",
       "       [0., 0., 0., 0., 0., 0., 0., 0.],\n",
       "       [0., 0., 0., 0., 0., 0., 0., 0.],\n",
       "       [0., 0., 0., 0., 0., 0., 0., 0.],\n",
       "       [0., 0., 0., 0., 0., 0., 0., 0.],\n",
       "       [0., 0., 0., 0., 0., 0., 0., 0.],\n",
       "       [0., 0., 0., 0., 0., 0., 0., 0.],\n",
       "       [0., 0., 0., 0., 0., 0., 0., 0.],\n",
       "       [0., 0., 0., 0., 0., 0., 0., 0.],\n",
       "       [0., 0., 0., 0., 0., 0., 0., 0.],\n",
       "       [0., 0., 0., 0., 0., 0., 0., 0.],\n",
       "       [0., 0., 0., 0., 0., 0., 0., 0.],\n",
       "       [0., 0., 0., 0., 0., 0., 0., 0.],\n",
       "       [0., 0., 0., 0., 0., 0., 0., 0.],\n",
       "       [0., 0., 0., 0., 0., 0., 0., 0.],\n",
       "       [0., 0., 0., 0., 0., 0., 0., 0.],\n",
       "       [0., 0., 0., 0., 0., 0., 0., 0.],\n",
       "       [0., 0., 0., 0., 0., 0., 0., 0.],\n",
       "       [0., 0., 0., 0., 0., 0., 0., 0.],\n",
       "       [0., 0., 0., 0., 0., 0., 0., 0.],\n",
       "       [0., 0., 0., 0., 0., 0., 0., 0.],\n",
       "       [0., 0., 0., 0., 0., 0., 0., 0.],\n",
       "       [0., 0., 0., 0., 0., 0., 0., 0.],\n",
       "       [0., 0., 0., 0., 0., 0., 0., 0.],\n",
       "       [0., 0., 0., 0., 0., 0., 0., 0.],\n",
       "       [0., 0., 0., 0., 0., 0., 0., 0.],\n",
       "       [0., 0., 0., 0., 0., 0., 0., 0.],\n",
       "       [0., 0., 0., 0., 0., 0., 0., 0.],\n",
       "       [0., 0., 0., 0., 0., 0., 0., 0.],\n",
       "       [0., 0., 0., 0., 0., 0., 0., 0.],\n",
       "       [0., 0., 0., 0., 0., 0., 0., 0.],\n",
       "       [0., 0., 0., 0., 0., 0., 0., 0.],\n",
       "       [0., 0., 0., 0., 0., 0., 0., 0.],\n",
       "       [0., 0., 0., 0., 0., 0., 0., 0.],\n",
       "       [0., 0., 0., 0., 0., 0., 0., 0.],\n",
       "       [0., 0., 0., 0., 0., 0., 0., 0.],\n",
       "       [0., 0., 0., 0., 0., 0., 0., 0.],\n",
       "       [0., 0., 0., 0., 0., 0., 0., 0.],\n",
       "       [0., 0., 0., 0., 0., 0., 0., 0.],\n",
       "       [0., 0., 0., 0., 0., 0., 0., 0.],\n",
       "       [0., 0., 0., 0., 0., 0., 0., 0.],\n",
       "       [0., 0., 0., 0., 0., 0., 0., 0.],\n",
       "       [0., 0., 0., 0., 0., 0., 0., 0.],\n",
       "       [0., 0., 0., 0., 0., 0., 0., 0.],\n",
       "       [0., 0., 0., 0., 0., 0., 0., 0.],\n",
       "       [0., 0., 0., 0., 0., 0., 0., 0.],\n",
       "       [0., 0., 0., 0., 0., 0., 0., 0.],\n",
       "       [0., 0., 0., 0., 0., 0., 0., 0.],\n",
       "       [0., 0., 0., 0., 0., 0., 0., 0.],\n",
       "       [0., 0., 0., 0., 0., 0., 0., 0.],\n",
       "       [0., 0., 0., 0., 0., 0., 0., 0.],\n",
       "       [0., 0., 0., 0., 0., 0., 0., 0.],\n",
       "       [0., 0., 0., 0., 0., 0., 0., 0.],\n",
       "       [0., 0., 0., 0., 0., 0., 0., 0.],\n",
       "       [0., 0., 0., 0., 0., 0., 0., 0.],\n",
       "       [0., 0., 0., 0., 0., 0., 0., 0.],\n",
       "       [0., 0., 0., 0., 0., 0., 0., 0.]])"
      ]
     },
     "execution_count": 16,
     "metadata": {},
     "output_type": "execute_result"
    }
   ],
   "source": [
    "handcrafted_features_vector[count:n,:]"
   ]
  },
  {
   "cell_type": "code",
   "execution_count": 17,
   "id": "39e17005",
   "metadata": {},
   "outputs": [],
   "source": [
    "handcrafted_features_vector_new1= np.delete(handcrafted_features_vector, range(count,n), 0)"
   ]
  },
  {
   "cell_type": "code",
   "execution_count": 18,
   "id": "73ebfc5e",
   "metadata": {},
   "outputs": [
    {
     "data": {
      "text/plain": [
       "(124129, 8)"
      ]
     },
     "execution_count": 18,
     "metadata": {},
     "output_type": "execute_result"
    }
   ],
   "source": [
    "handcrafted_features_vector_new1.shape"
   ]
  },
  {
   "cell_type": "code",
   "execution_count": 19,
   "id": "fbe55205",
   "metadata": {},
   "outputs": [],
   "source": [
    "handcrafted_features_vector_new = handcrafted_features_vector[~np.all(handcrafted_features_vector ==0, axis=1)]"
   ]
  },
  {
   "cell_type": "code",
   "execution_count": 20,
   "id": "dd1b536b",
   "metadata": {},
   "outputs": [
    {
     "data": {
      "text/plain": [
       "(109404, 8)"
      ]
     },
     "execution_count": 20,
     "metadata": {},
     "output_type": "execute_result"
    }
   ],
   "source": [
    "handcrafted_features_vector_new.shape"
   ]
  },
  {
   "cell_type": "code",
   "execution_count": 21,
   "id": "87204e05",
   "metadata": {},
   "outputs": [
    {
     "name": "stdout",
     "output_type": "stream",
     "text": [
      "124129\n",
      "124200\n"
     ]
    },
    {
     "data": {
      "text/plain": [
       "71"
      ]
     },
     "execution_count": 21,
     "metadata": {},
     "output_type": "execute_result"
    }
   ],
   "source": [
    "print(count)\n",
    "print(n)\n",
    "n-count"
   ]
  },
  {
   "cell_type": "code",
   "execution_count": 22,
   "id": "21cb76ae",
   "metadata": {},
   "outputs": [
    {
     "data": {
      "text/plain": [
       "array([[0.14565595, 0.15295387, 0.02935256, ..., 0.27220871, 0.14978604,\n",
       "        0.05602099],\n",
       "       [0.16164244, 0.03791351, 0.00815169, ..., 0.27300616, 0.15005658,\n",
       "        0.06164434],\n",
       "       [0.10225159, 0.00794716, 0.00300362, ..., 0.22226743, 0.10549292,\n",
       "        0.10110349],\n",
       "       ...,\n",
       "       [0.        , 0.        , 0.        , ..., 0.        , 0.        ,\n",
       "        0.        ],\n",
       "       [0.        , 0.        , 0.        , ..., 0.        , 0.        ,\n",
       "        0.        ],\n",
       "       [0.        , 0.        , 0.        , ..., 0.        , 0.        ,\n",
       "        0.        ]])"
      ]
     },
     "execution_count": 22,
     "metadata": {},
     "output_type": "execute_result"
    }
   ],
   "source": [
    "handcrafted_features_vector"
   ]
  },
  {
   "cell_type": "code",
   "execution_count": 23,
   "id": "841321f6",
   "metadata": {},
   "outputs": [
    {
     "data": {
      "text/plain": [
       "array([[0.14565595, 0.15295387, 0.02935256, ..., 0.27220871, 0.14978604,\n",
       "        0.05602099],\n",
       "       [0.16164244, 0.03791351, 0.00815169, ..., 0.27300616, 0.15005658,\n",
       "        0.06164434],\n",
       "       [0.10225159, 0.00794716, 0.00300362, ..., 0.22226743, 0.10549292,\n",
       "        0.10110349],\n",
       "       ...,\n",
       "       [0.        , 0.        , 0.        , ..., 0.        , 0.        ,\n",
       "        0.        ],\n",
       "       [0.        , 0.        , 0.        , ..., 0.        , 0.        ,\n",
       "        0.        ],\n",
       "       [0.        , 0.        , 0.        , ..., 0.        , 0.        ,\n",
       "        0.        ]])"
      ]
     },
     "execution_count": 23,
     "metadata": {},
     "output_type": "execute_result"
    }
   ],
   "source": [
    "handcrafted_features_vector"
   ]
  },
  {
   "cell_type": "code",
   "execution_count": 24,
   "id": "68986bb2",
   "metadata": {},
   "outputs": [
    {
     "data": {
      "text/plain": [
       "0"
      ]
     },
     "execution_count": 24,
     "metadata": {},
     "output_type": "execute_result"
    }
   ],
   "source": [
    "np.sum(np.isnan(handcrafted_features_vector[0]))"
   ]
  },
  {
   "cell_type": "code",
   "execution_count": 25,
   "id": "d7b4c5aa",
   "metadata": {},
   "outputs": [
    {
     "data": {
      "text/plain": [
       "124200"
      ]
     },
     "execution_count": 25,
     "metadata": {},
     "output_type": "execute_result"
    }
   ],
   "source": [
    "len(labels_vectors)"
   ]
  },
  {
   "cell_type": "markdown",
   "id": "37dde7f0",
   "metadata": {},
   "source": [
    "### Classifier"
   ]
  },
  {
   "cell_type": "code",
   "execution_count": null,
   "id": "92cffefd",
   "metadata": {},
   "outputs": [],
   "source": [
    "from sklearn import svm\n",
    "clf = svm.SVC()\n",
    "clf.fit(handcrafted_features_vector_new1, labels_vectors[0:count])"
   ]
  },
  {
   "cell_type": "code",
   "execution_count": null,
   "id": "12ca9f86",
   "metadata": {},
   "outputs": [],
   "source": [
    "handcrafted_features['GSR_features'].shape"
   ]
  },
  {
   "cell_type": "code",
   "execution_count": null,
   "id": "4a8a5070",
   "metadata": {},
   "outputs": [],
   "source": [
    "2070/24/45"
   ]
  },
  {
   "cell_type": "code",
   "execution_count": null,
   "id": "95f8a505",
   "metadata": {},
   "outputs": [],
   "source": [
    "dataset['test']['hand_crafted_features']['GSR_features'].shape"
   ]
  },
  {
   "cell_type": "code",
   "execution_count": null,
   "id": "916eab4b",
   "metadata": {},
   "outputs": [],
   "source": [
    "986/24/45"
   ]
  },
  {
   "cell_type": "code",
   "execution_count": null,
   "id": "6f8709e8",
   "metadata": {},
   "outputs": [],
   "source": [
    "testDataset = dataset_test['hand_crafted_features']['ECG_features']\n",
    "\n",
    "predicted_dataset = clf.predict();"
   ]
  },
  {
   "cell_type": "code",
   "execution_count": null,
   "id": "4aea2146",
   "metadata": {},
   "outputs": [],
   "source": [
    "print(predicted_dataset)"
   ]
  },
  {
   "cell_type": "code",
   "execution_count": null,
   "id": "d2e6a1e0",
   "metadata": {},
   "outputs": [],
   "source": [
    "print('hey')"
   ]
  }
 ],
 "metadata": {
  "kernelspec": {
   "display_name": "cfp_wellbeing_isel",
   "language": "python",
   "name": "cfp_wellbeing_isel"
  },
  "language_info": {
   "codemirror_mode": {
    "name": "ipython",
    "version": 3
   },
   "file_extension": ".py",
   "mimetype": "text/x-python",
   "name": "python",
   "nbconvert_exporter": "python",
   "pygments_lexer": "ipython3",
   "version": "3.10.4"
  }
 },
 "nbformat": 4,
 "nbformat_minor": 5
}
